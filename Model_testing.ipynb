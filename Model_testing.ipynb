{
  "cells": [
    {
      "cell_type": "code",
      "execution_count": null,
      "metadata": {
        "id": "L3ztavW0mL7U",
        "colab": {
          "base_uri": "https://localhost:8080/"
        },
        "outputId": "fb7da5c6-100b-4e09-9f86-40ee1fc14678"
      },
      "outputs": [
        {
          "output_type": "stream",
          "name": "stdout",
          "text": [
            "Mounted at /content/gdrive\n"
          ]
        }
      ],
      "source": [
        "from google.colab import drive\n",
        "drive.mount(\"/content/gdrive\")"
      ]
    },
    {
      "cell_type": "code",
      "source": [
        "import warnings\n",
        "from decimal import Decimal\n",
        "import pandas as pd\n",
        "\n",
        "from sklearn.tree import DecisionTreeClassifier\n",
        "from sklearn.linear_model import LogisticRegression\n",
        "from sklearn.neighbors import KNeighborsClassifier\n",
        "from sklearn.svm import SVC\n",
        "from sklearn.metrics import accuracy_score\n",
        "from sklearn.model_selection import train_test_split, cross_val_score\n",
        "from sklearn.model_selection import GridSearchCV\n",
        "from sklearn.naive_bayes import MultinomialNB\n",
        "from sklearn.ensemble import RandomForestClassifier\n",
        "from sklearn.neural_network import MLPClassifier\n",
        "from xgboost import XGBClassifier\n",
        "import matplotlib.pyplot as plt\n",
        "from sklearn import decomposition, datasets\n",
        "from sklearn import tree\n",
        "from sklearn.pipeline import Pipeline\n",
        "#from sklearn.model_selection import GridSearchCV\n",
        "from sklearn.preprocessing import StandardScaler\n",
        "# ignore warnings generated due to usage of old version of tensorflow\n",
        "warnings.simplefilter(\"ignore\")\n",
        "\n",
        "\"\"\"**Disease Symptom dataset** was created in a separate python program.\n",
        "**Dataset scrapping** was done using **NHP website** and **wikipedia data**\n",
        "\"\"\"\n",
        "\n",
        "# Load Dataset scraped from NHP (https://www.nhp.gov.in/disease-a-z) & Wikipedia\n",
        "# Scrapping and creation of dataset csv is done in a separate program\n",
        "df_comb = pd.read_csv(\"/content/gdrive/MyDrive/dis_sym_dataset_comb.csv\", encoding = 'unicode_escape')\n",
        "\n",
        "# creation of features and label for training the models\n",
        "X = df_comb.iloc[:, 1:]\n",
        "Y = df_comb.iloc[:, 0:1]\n",
        "\n",
        "\n",
        "\"\"\"*Train Test Split*\"\"\"\n",
        "\n",
        "# splitting data for training the classifiers and testing\n",
        "x_train, x_test, y_train, y_test = train_test_split(X, Y, test_size=0.33,random_state=34)\n",
        "\n",
        "# lists used for accuracy plots\n",
        "accuracy_list = []\n",
        "cross_accuracy_list = []\n",
        "model_list = []\n"
      ],
      "metadata": {
        "id": "UfKOoFmPJZLK"
      },
      "execution_count": null,
      "outputs": []
    },
    {
      "cell_type": "code",
      "source": [],
      "metadata": {
        "id": "saiOBC4fJEVz"
      },
      "execution_count": null,
      "outputs": []
    },
    {
      "cell_type": "markdown",
      "source": [
        "# Multinomial NB Classifier\n",
        "mnb = MultinomialNB()\n",
        "mnb = mnb.fit(X, Y)\n",
        "# prediction of labels for the test data\n",
        "mnb_pred = mnb.predict(x_test)\n",
        "# calculation of accuracy score based on predictions performed\n",
        "# converting to Decimal as rounding with float is inaccurate\n",
        "acc_mnb = round(Decimal(accuracy_score(y_test, mnb_pred) * 100), 2)\n",
        "accuracy_list.append(acc_mnb)\n",
        "model_list.append(\"MNB\")\n",
        "print(f\"Accuracy (MNB) : {acc_mnb}%\")\n",
        "\n",
        "# Cross Validation Accuracy MNB\n",
        "# performing cross validation with 10 different splits\n",
        "scores_mnb = cross_val_score(mnb, X, Y, cv=5)\n",
        "# mean of cross val score (accuracy)\n",
        "score = round(Decimal(scores_mnb.mean() * 100), 2)\n",
        "cross_accuracy_list.append(score)\n",
        "print(f\"Cross Validation Accuracy (MNB): {score}%\")"
      ],
      "metadata": {
        "id": "iZt0-DLt-DRn"
      }
    },
    {
      "cell_type": "code",
      "execution_count": null,
      "metadata": {
        "colab": {
          "base_uri": "https://localhost:8080/"
        },
        "id": "LREwbwOvALNb",
        "outputId": "7b2f1dec-9799-4a8e-fade-aa1c525f1b5a"
      },
      "outputs": [
        {
          "output_type": "stream",
          "name": "stdout",
          "text": [
            "Accuracy (RF) : 91.84%\n",
            "Cross Validation Accuracy (RF): 87.90%\n"
          ]
        }
      ],
      "source": [
        "# RF Classifier\n",
        "rf = RandomForestClassifier(n_estimators=10, criterion='entropy')\n",
        "rf = rf.fit(X, Y)\n",
        "# prediction of labels for the test data\n",
        "rf_pred = rf.predict(x_test)\n",
        "acc_rf = round(Decimal(accuracy_score(y_test, rf_pred) * 100), 2)\n",
        "accuracy_list.append(acc_rf)\n",
        "model_list.append(\"RF\")\n",
        "print(f\"Accuracy (RF) : {acc_rf}%\")\n",
        "# Cross Validation Accuracy RF\n",
        "# performing cross validation with 10 different splits\n",
        "scores_rf = cross_val_score(rf, X, Y, cv=5)\n",
        "# mean of cross val score (accuracy)\n",
        "score = round(Decimal(scores_rf.mean() * 100), 2)\n",
        "cross_accuracy_list.append(score)\n",
        "print(f\"Cross Validation Accuracy (RF): {score}%\")"
      ]
    },
    {
      "cell_type": "code",
      "execution_count": null,
      "metadata": {
        "colab": {
          "base_uri": "https://localhost:8080/"
        },
        "id": "rWdmRnUAAlSP",
        "outputId": "86dd073b-5fe7-4bf1-a345-c904344037dc"
      },
      "outputs": [
        {
          "output_type": "stream",
          "name": "stdout",
          "text": [
            "Accuracy (KNN) : 92.36%\n",
            "Cross Validation Accuracy (KNN): 86.66%\n"
          ]
        }
      ],
      "source": [
        "# KNN Classifier\n",
        "knn = KNeighborsClassifier(n_neighbors=31, weights='distance', n_jobs=4)\n",
        "knn = knn.fit(X, Y)\n",
        "# prediction of labels for the test data\n",
        "knn_pred = knn.predict(x_test)\n",
        "acc_knn = round(Decimal(accuracy_score(y_test, knn_pred) * 100), 2)\n",
        "accuracy_list.append(acc_knn)\n",
        "model_list.append(\"KNN\")\n",
        "print(f\"Accuracy (KNN) : {acc_knn}%\")\n",
        "# Cross Validation Accuracy KNN\n",
        "# performing cross validation with 5 different splits\n",
        "scores_knn = cross_val_score(knn, X, Y, cv=5)\n",
        "# mean of cross val score (accuracy)\n",
        "score = round(Decimal(scores_knn.mean() * 100), 2)\n",
        "cross_accuracy_list.append(score)\n",
        "print(f\"Cross Validation Accuracy (KNN): {score}%\")"
      ]
    },
    {
      "cell_type": "code",
      "source": [
        "knn = KNeighborsClassifier(n_neighbors = 31)\n",
        "knn.fit(x_train, y_train)\n",
        "knn.score(x_test, y_test)\n",
        "\n",
        "  \n",
        "\n",
        "  "
      ],
      "metadata": {
        "colab": {
          "base_uri": "https://localhost:8080/"
        },
        "id": "5MdGtAzUymt6",
        "outputId": "12c1d750-5fbf-4ce2-9532-c399b1a3da0b"
      },
      "execution_count": null,
      "outputs": [
        {
          "output_type": "execute_result",
          "data": {
            "text/plain": [
              "0.8592848904267589"
            ]
          },
          "metadata": {},
          "execution_count": 7
        }
      ]
    },
    {
      "cell_type": "code",
      "execution_count": null,
      "metadata": {
        "colab": {
          "base_uri": "https://localhost:8080/"
        },
        "id": "eg_EBDlEA-aZ",
        "outputId": "f231b56b-82dc-459c-e99d-36e1f4f91147"
      },
      "outputs": [
        {
          "output_type": "stream",
          "name": "stdout",
          "text": [
            "Accuracy (LR) : 91.35%\n"
          ]
        }
      ],
      "source": [
        "# LR Classifier\n",
        "lr = LogisticRegression()\n",
        "lr = lr.fit(X, Y)\n",
        "# prediction of labels for the test data\n",
        "lr_pred = lr.predict(x_test)\n",
        "acc_lr = round(Decimal(accuracy_score(y_test, lr_pred) * 100), 2)\n",
        "accuracy_list.append(acc_lr)\n",
        "model_list.append(\"LR\")\n",
        "print(f\"Accuracy (LR) : {acc_lr}%\")"
      ]
    },
    {
      "cell_type": "code",
      "execution_count": null,
      "metadata": {
        "colab": {
          "base_uri": "https://localhost:8080/"
        },
        "id": "rlDfqPWaBuo2",
        "outputId": "b3b52ce7-287d-487f-9658-19928fa08e5a"
      },
      "outputs": [
        {
          "output_type": "stream",
          "name": "stdout",
          "text": [
            "Cross Validation Accuracy (LR): 89.87%\n"
          ]
        }
      ],
      "source": [
        "# Cross Validation Accuracy LR\n",
        "# performing cross validation with 5 different splits\n",
        "scores_lr = cross_val_score(lr, X, Y, cv=5)\n",
        "# mean of cross val score (accuracy)\n",
        "score = round(Decimal(scores_lr.mean() * 100), 2)\n",
        "cross_accuracy_list.append(score)\n",
        "print(f\"Cross Validation Accuracy (LR): {score}%\")"
      ]
    },
    {
      "cell_type": "code",
      "execution_count": null,
      "metadata": {
        "colab": {
          "base_uri": "https://localhost:8080/"
        },
        "id": "ZvCporxNOI-H",
        "outputId": "65b10156-4367-4299-d38f-485e973dc685"
      },
      "outputs": [
        {
          "output_type": "stream",
          "name": "stdout",
          "text": [
            "Accuracy (DT) : 92.36%\n",
            "Cross Validation Accuracy (DT): 86.61%\n"
          ]
        }
      ],
      "source": [
        "# DT Classifier\n",
        "dt = DecisionTreeClassifier()\n",
        "dt = dt.fit(X, Y)\n",
        "# prediction of labels for the test data\n",
        "dt_pred = dt.predict(x_test)\n",
        "acc_dt = round(Decimal(accuracy_score(y_test, dt_pred) * 100), 2)\n",
        "accuracy_list.append(acc_dt)\n",
        "model_list.append(\"DT\")\n",
        "print(f\"Accuracy (DT) : {acc_dt}%\")\n",
        "\n",
        "# Cross Validation Accuracy DT\n",
        "# performing cross validation with 5 different splits\n",
        "scores_dt = cross_val_score(dt, X, Y, cv=5)\n",
        "# mean of cross val score (accuracy)\n",
        "score = round(Decimal(scores_dt.mean() * 100), 2)\n",
        "cross_accuracy_list.append(score)\n",
        "print(f\"Cross Validation Accuracy (DT): {score}%\")"
      ]
    },
    {
      "cell_type": "code",
      "execution_count": null,
      "metadata": {
        "colab": {
          "base_uri": "https://localhost:8080/"
        },
        "id": "bMwlLErkOVhh",
        "outputId": "e08aab82-bff6-45e5-9ab5-6324d8790ae1"
      },
      "outputs": [
        {
          "output_type": "stream",
          "name": "stdout",
          "text": [
            "Accuracy (SVM) : 91.26%\n",
            "Cross Validation Accuracy (SVM): 88.27%\n"
          ]
        }
      ],
      "source": [
        "# SVM Classifier\n",
        "svm = SVC()\n",
        "svm = svm.fit(X, Y)\n",
        "# prediction of labels for the test data\n",
        "svm_pred = svm.predict(x_test)\n",
        "acc_svm = round(Decimal(accuracy_score(y_test, svm_pred) * 100), 2)\n",
        "accuracy_list.append(acc_svm)\n",
        "model_list.append(\"SVM\")\n",
        "print(f\"Accuracy (SVM) : {acc_svm}%\")\n",
        "\n",
        "# Cross Validation Accuracy SVM\n",
        "# performing cross validation with 5 different splits\n",
        "scores_svm = cross_val_score(svm, X, Y, cv=5)\n",
        "# mean of cross val score (accuracy)\n",
        "score = round(Decimal(scores_svm.mean() * 100), 2)\n",
        "cross_accuracy_list.append(score)\n",
        "print(f\"Cross Validation Accuracy (SVM): {score}%\")"
      ]
    },
    {
      "cell_type": "code",
      "execution_count": null,
      "metadata": {
        "id": "ZagFuilyO7or",
        "colab": {
          "base_uri": "https://localhost:8080/"
        },
        "outputId": "dc382c9a-d607-4b82-d64a-06a5a0c5172b"
      },
      "outputs": [
        {
          "output_type": "stream",
          "name": "stdout",
          "text": [
            "Accuracy (MLP) : 92.42%\n",
            "Cross Validation Accuracy (MLP): 89.73%\n"
          ]
        }
      ],
      "source": [
        "# MLP Classifier\n",
        "mlp = MLPClassifier(hidden_layer_sizes=(100, 100, 100), activation='tanh', solver='adam', max_iter=100)\n",
        "mlp = mlp.fit(X, Y)\n",
        "# prediction of labels for the test data\n",
        "mlp_pred = mlp.predict(x_test)\n",
        "acc_mlp = round(Decimal(accuracy_score(y_test, mlp_pred) * 100), 2)\n",
        "accuracy_list.append(acc_mlp)\n",
        "model_list.append(\"MLP\")\n",
        "print(f\"Accuracy (MLP) : {acc_mlp}%\")\n",
        "\n",
        "# Cross Validation Accuracy MLP\n",
        "# performing cross validation with 5 different splits\n",
        "scores_mlp = cross_val_score(mlp, X, Y, cv=5)\n",
        "# mean of cross val score (accuracy)\n",
        "score = round(Decimal(scores_mlp.mean() * 100), 2)\n",
        "cross_accuracy_list.append(score)\n",
        "print(f\"Cross Validation Accuracy (MLP): {score}%\")"
      ]
    },
    {
      "cell_type": "code",
      "execution_count": null,
      "metadata": {
        "id": "JENX8y5lbkDs",
        "colab": {
          "base_uri": "https://localhost:8080/",
          "height": 647
        },
        "outputId": "5fd7b0cd-1f50-41ca-d3c9-4cc02d0aae0e"
      },
      "outputs": [
        {
          "output_type": "display_data",
          "data": {
            "text/plain": [
              "<Figure size 720x720 with 1 Axes>"
            ],
            "image/png": "[encoded data removed]"
          },
          "metadata": {
            "needs_background": "light"
          }
        }
      ],
      "source": [
        "# comparison plot for all classifiers with their accuracy\n",
        "plt.style.use('seaborn-poster')\n",
        "fig = plt.figure(figsize=(10, 10))\n",
        "ax = fig.add_subplot()\n",
        "plt.title(\"Model Vs Accuracy\")\n",
        "plt.xlabel('Classifier')\n",
        "plt.ylabel('Accuracy (%)')\n",
        "plt.bar(model_list, accuracy_list, color='blue')\n",
        "for i, j in enumerate(accuracy_list):\n",
        "    ax.text(float(i)-0.15, float(j)+0.7, str(j), color='green')\n",
        "plt.show()"
      ]
    },
    {
      "cell_type": "code",
      "source": [
        "# comparison plot for all classifiers with their accuracy\n",
        "plt.style.use('seaborn-poster')\n",
        "fig = plt.figure(figsize=(10, 10))\n",
        "ax = fig.add_subplot()\n",
        "plt.title(\"Model Vs Cross Validation Accuracy\")\n",
        "plt.xlabel('Classifier')\n",
        "plt.ylabel('Accuracy (%)')\n",
        "plt.bar(model_list, cross_accuracy_list, color='green')\n",
        "for i, j in enumerate(cross_accuracy_list):\n",
        "    ax.text(float(i)-0.15, float(j)+0.7, str(j), color='blue')\n",
        "plt.show()"
      ],
      "metadata": {
        "colab": {
          "base_uri": "https://localhost:8080/",
          "height": 647
        },
        "id": "RGspCuJtSy6U",
        "outputId": "6cf06b97-642a-476a-a8ea-afdb0fce582f"
      },
      "execution_count": null,
      "outputs": [
        {
          "output_type": "display_data",
          "data": {
            "text/plain": [
              "<Figure size 720x720 with 1 Axes>"
            ],
            "image/png": "[encoded data removed]"
          },
          "metadata": {
            "needs_background": "light"
          }
        }
      ]
    }
  ],
  "metadata": {
    "colab": {
      "provenance": []
    },
    "kernelspec": {
      "display_name": "Python 3",
      "name": "python3"
    },
    "language_info": {
      "name": "python"
    }
  },
  "nbformat": 4,
  "nbformat_minor": 0
}